{
 "cells": [
  {
   "cell_type": "code",
   "execution_count": 1,
   "id": "fa6f1d77-9877-4e9d-b028-b0da6344c219",
   "metadata": {},
   "outputs": [],
   "source": [
    "lst = [1,2,3,4]"
   ]
  },
  {
   "cell_type": "code",
   "execution_count": 2,
   "id": "88f7205c-1d88-421d-8cb2-118640e06bbf",
   "metadata": {},
   "outputs": [],
   "source": [
    "import numpy as np"
   ]
  },
  {
   "cell_type": "code",
   "execution_count": 3,
   "id": "afb75efa-6f81-4527-a785-ce6564f17bf0",
   "metadata": {},
   "outputs": [
    {
     "data": {
      "text/plain": [
       "array([1, 2, 3, 4])"
      ]
     },
     "execution_count": 3,
     "metadata": {},
     "output_type": "execute_result"
    }
   ],
   "source": [
    "np.array(lst)"
   ]
  },
  {
   "cell_type": "code",
   "execution_count": 4,
   "id": "2bd6f883-6e68-4620-91e3-992a5e354814",
   "metadata": {},
   "outputs": [],
   "source": [
    "lst2 = [[1,2,3],[4,5,6],[7,8,9]]"
   ]
  },
  {
   "cell_type": "code",
   "execution_count": 11,
   "id": "3eef3519-873c-4513-accc-8e157fb21843",
   "metadata": {},
   "outputs": [],
   "source": [
    "myarr = np.array(lst2)"
   ]
  },
  {
   "cell_type": "code",
   "execution_count": 8,
   "id": "825cab34-d85e-4144-8e38-025b82022809",
   "metadata": {},
   "outputs": [
    {
     "data": {
      "text/plain": [
       "array([[ 5, 10, 15],\n",
       "       [20, 25, 30],\n",
       "       [35, 40, 45]])"
      ]
     },
     "execution_count": 8,
     "metadata": {},
     "output_type": "execute_result"
    }
   ],
   "source": [
    "myarr * 5"
   ]
  },
  {
   "cell_type": "code",
   "execution_count": 12,
   "id": "5c1843e1-41ee-4f0a-9ccd-d51325ff37f5",
   "metadata": {},
   "outputs": [
    {
     "data": {
      "text/plain": [
       "array([[False, False, False],\n",
       "       [False, False,  True],\n",
       "       [ True,  True,  True]])"
      ]
     },
     "execution_count": 12,
     "metadata": {},
     "output_type": "execute_result"
    }
   ],
   "source": [
    "myarr > 5"
   ]
  },
  {
   "cell_type": "code",
   "execution_count": 21,
   "id": "ace755ac-97a1-46c5-8a7d-419126b80920",
   "metadata": {},
   "outputs": [],
   "source": [
    "arr1 = np.arange(0,10)"
   ]
  },
  {
   "cell_type": "code",
   "execution_count": 23,
   "id": "34825578-ecbc-44d7-baf7-9d68f321d589",
   "metadata": {},
   "outputs": [
    {
     "data": {
      "text/plain": [
       "array([[0, 1],\n",
       "       [2, 3],\n",
       "       [4, 5],\n",
       "       [6, 7],\n",
       "       [8, 9]])"
      ]
     },
     "execution_count": 23,
     "metadata": {},
     "output_type": "execute_result"
    }
   ],
   "source": [
    "arr1.reshape(5,2)"
   ]
  },
  {
   "cell_type": "code",
   "execution_count": 25,
   "id": "2d5c227b-81ab-45f2-b9e6-48a1ecfa334d",
   "metadata": {},
   "outputs": [],
   "source": [
    "arr3 = np.random.randn(3,4)"
   ]
  },
  {
   "cell_type": "code",
   "execution_count": 26,
   "id": "62c0a2ac-bc73-4eb8-b1a8-4ede6dfe6fe4",
   "metadata": {},
   "outputs": [
    {
     "data": {
      "text/plain": [
       "array([[ 0.03977897,  0.80787823,  0.34636829,  0.76821632],\n",
       "       [ 0.80511146,  0.72797817,  0.86613569, -0.58212305],\n",
       "       [-0.74305295,  2.85074973, -0.35756103,  1.40566518]])"
      ]
     },
     "execution_count": 26,
     "metadata": {},
     "output_type": "execute_result"
    }
   ],
   "source": [
    "arr3"
   ]
  },
  {
   "cell_type": "code",
   "execution_count": 29,
   "id": "c40ed7d9-7225-4923-bc02-d47f82b641d1",
   "metadata": {},
   "outputs": [
    {
     "data": {
      "text/plain": [
       "array([[0.86613569]])"
      ]
     },
     "execution_count": 29,
     "metadata": {},
     "output_type": "execute_result"
    }
   ],
   "source": [
    "arr3[1:2,2:3]"
   ]
  },
  {
   "cell_type": "raw",
   "id": "26c3addc-9fac-466e-b52f-5b5e2d0aecef",
   "metadata": {},
   "source": [
    "arr3[1:3,2:4]"
   ]
  },
  {
   "cell_type": "code",
   "execution_count": 33,
   "id": "0ffc59f0-71da-4db4-a4db-09ba3b73e7b4",
   "metadata": {},
   "outputs": [
    {
     "data": {
      "text/plain": [
       "array([0., 0., 0., 0., 0.])"
      ]
     },
     "execution_count": 33,
     "metadata": {},
     "output_type": "execute_result"
    }
   ],
   "source": [
    "np.zeros(5)"
   ]
  },
  {
   "cell_type": "code",
   "execution_count": 34,
   "id": "02b43626-7ef1-4737-be69-f064d1afd788",
   "metadata": {},
   "outputs": [
    {
     "data": {
      "text/plain": [
       "array([1., 1., 1., 1., 1.])"
      ]
     },
     "execution_count": 34,
     "metadata": {},
     "output_type": "execute_result"
    }
   ],
   "source": [
    "np.ones(5)"
   ]
  },
  {
   "cell_type": "code",
   "execution_count": 35,
   "id": "5d683893-9a58-463d-b14d-d62c84e0bade",
   "metadata": {},
   "outputs": [
    {
     "data": {
      "text/plain": [
       "array([[1., 0., 0., 0.],\n",
       "       [0., 1., 0., 0.],\n",
       "       [0., 0., 1., 0.],\n",
       "       [0., 0., 0., 1.]])"
      ]
     },
     "execution_count": 35,
     "metadata": {},
     "output_type": "execute_result"
    }
   ],
   "source": [
    "np.eye(4)"
   ]
  },
  {
   "cell_type": "code",
   "execution_count": 37,
   "id": "51de1668-b250-4ab8-863d-0d12562e721f",
   "metadata": {},
   "outputs": [
    {
     "data": {
      "text/plain": [
       "array([[1, 2, 3],\n",
       "       [4, 5, 6],\n",
       "       [7, 8, 9]])"
      ]
     },
     "execution_count": 37,
     "metadata": {},
     "output_type": "execute_result"
    }
   ],
   "source": [
    "myarr"
   ]
  },
  {
   "cell_type": "code",
   "execution_count": 38,
   "id": "62305a6f-336a-4042-b07f-2cbc50de0576",
   "metadata": {},
   "outputs": [
    {
     "data": {
      "text/plain": [
       "array([[False, False, False],\n",
       "       [False, False,  True],\n",
       "       [ True,  True,  True]])"
      ]
     },
     "execution_count": 38,
     "metadata": {},
     "output_type": "execute_result"
    }
   ],
   "source": [
    "myarr > 5"
   ]
  },
  {
   "cell_type": "code",
   "execution_count": 39,
   "id": "0deee9dc-204c-4581-b436-c3b8383df9f5",
   "metadata": {},
   "outputs": [
    {
     "data": {
      "text/plain": [
       "array([6, 7, 8, 9])"
      ]
     },
     "execution_count": 39,
     "metadata": {},
     "output_type": "execute_result"
    }
   ],
   "source": [
    "myarr[myarr > 5]"
   ]
  },
  {
   "cell_type": "code",
   "execution_count": 44,
   "id": "c14aacff-3c50-476d-9010-6541c1100545",
   "metadata": {},
   "outputs": [
    {
     "data": {
      "text/plain": [
       "array([ 6, 15, 24])"
      ]
     },
     "execution_count": 44,
     "metadata": {},
     "output_type": "execute_result"
    }
   ],
   "source": [
    "myarr.sum(axis=1)"
   ]
  },
  {
   "cell_type": "code",
   "execution_count": 45,
   "id": "90454f67-5cee-4685-8f26-7eff6e8b11c5",
   "metadata": {},
   "outputs": [],
   "source": [
    "import pandas as pd"
   ]
  },
  {
   "cell_type": "code",
   "execution_count": 46,
   "id": "3d9bef2a-e797-47b6-8743-1810bc2982c7",
   "metadata": {},
   "outputs": [],
   "source": [
    "ser1 = pd.Series([1,2,3,4],['Delhi','Jaipur','Hyd','CSN'])"
   ]
  },
  {
   "cell_type": "code",
   "execution_count": 47,
   "id": "3bb3ebe8-7cf2-44b8-862f-cf93a4289692",
   "metadata": {},
   "outputs": [
    {
     "data": {
      "text/plain": [
       "Delhi     1\n",
       "Jaipur    2\n",
       "Hyd       3\n",
       "CSN       4\n",
       "dtype: int64"
      ]
     },
     "execution_count": 47,
     "metadata": {},
     "output_type": "execute_result"
    }
   ],
   "source": [
    "ser1"
   ]
  },
  {
   "cell_type": "code",
   "execution_count": 48,
   "id": "dc53cd12-82cf-4518-8782-d6a16f1e7fa8",
   "metadata": {},
   "outputs": [],
   "source": [
    "ser2 = pd.Series([1,2,8,4],['Delhi','Jaipur','Noida','CSN'])"
   ]
  },
  {
   "cell_type": "code",
   "execution_count": 49,
   "id": "42a96aa2-04e3-48e1-aebf-ecf696ade513",
   "metadata": {},
   "outputs": [
    {
     "data": {
      "text/plain": [
       "CSN       8.0\n",
       "Delhi     2.0\n",
       "Hyd       NaN\n",
       "Jaipur    4.0\n",
       "Noida     NaN\n",
       "dtype: float64"
      ]
     },
     "execution_count": 49,
     "metadata": {},
     "output_type": "execute_result"
    }
   ],
   "source": [
    "ser1 + ser2"
   ]
  },
  {
   "cell_type": "code",
   "execution_count": 50,
   "id": "2a841c25-fdcd-4c77-82c7-38a652529eb8",
   "metadata": {},
   "outputs": [
    {
     "data": {
      "text/plain": [
       "pandas.core.series.Series"
      ]
     },
     "execution_count": 50,
     "metadata": {},
     "output_type": "execute_result"
    }
   ],
   "source": [
    "type(ser1)"
   ]
  },
  {
   "cell_type": "code",
   "execution_count": 51,
   "id": "e50d94b4-93c6-4429-8c5e-9b5258d90f0f",
   "metadata": {},
   "outputs": [],
   "source": [
    "from numpy.random import randn"
   ]
  },
  {
   "cell_type": "code",
   "execution_count": 52,
   "id": "1ef38849-bbe4-4fcd-90a4-425770269356",
   "metadata": {},
   "outputs": [],
   "source": [
    "df = pd.DataFrame(randn(5,4),['A','B','C','D','E'],['W','X','Y','Z'])"
   ]
  },
  {
   "cell_type": "code",
   "execution_count": 53,
   "id": "2154a3df-ed93-4473-bfb3-4528bfc46a9d",
   "metadata": {},
   "outputs": [
    {
     "data": {
      "text/html": [
       "<div>\n",
       "<style scoped>\n",
       "    .dataframe tbody tr th:only-of-type {\n",
       "        vertical-align: middle;\n",
       "    }\n",
       "\n",
       "    .dataframe tbody tr th {\n",
       "        vertical-align: top;\n",
       "    }\n",
       "\n",
       "    .dataframe thead th {\n",
       "        text-align: right;\n",
       "    }\n",
       "</style>\n",
       "<table border=\"1\" class=\"dataframe\">\n",
       "  <thead>\n",
       "    <tr style=\"text-align: right;\">\n",
       "      <th></th>\n",
       "      <th>W</th>\n",
       "      <th>X</th>\n",
       "      <th>Y</th>\n",
       "      <th>Z</th>\n",
       "    </tr>\n",
       "  </thead>\n",
       "  <tbody>\n",
       "    <tr>\n",
       "      <th>A</th>\n",
       "      <td>-1.602959</td>\n",
       "      <td>-0.420116</td>\n",
       "      <td>-1.428094</td>\n",
       "      <td>-0.158894</td>\n",
       "    </tr>\n",
       "    <tr>\n",
       "      <th>B</th>\n",
       "      <td>0.536785</td>\n",
       "      <td>0.122485</td>\n",
       "      <td>1.280501</td>\n",
       "      <td>-1.535039</td>\n",
       "    </tr>\n",
       "    <tr>\n",
       "      <th>C</th>\n",
       "      <td>-0.493626</td>\n",
       "      <td>0.712144</td>\n",
       "      <td>-0.215077</td>\n",
       "      <td>-0.331514</td>\n",
       "    </tr>\n",
       "    <tr>\n",
       "      <th>D</th>\n",
       "      <td>0.978947</td>\n",
       "      <td>2.140353</td>\n",
       "      <td>-0.368481</td>\n",
       "      <td>0.920584</td>\n",
       "    </tr>\n",
       "    <tr>\n",
       "      <th>E</th>\n",
       "      <td>0.907643</td>\n",
       "      <td>0.060393</td>\n",
       "      <td>1.014474</td>\n",
       "      <td>0.048282</td>\n",
       "    </tr>\n",
       "  </tbody>\n",
       "</table>\n",
       "</div>"
      ],
      "text/plain": [
       "          W         X         Y         Z\n",
       "A -1.602959 -0.420116 -1.428094 -0.158894\n",
       "B  0.536785  0.122485  1.280501 -1.535039\n",
       "C -0.493626  0.712144 -0.215077 -0.331514\n",
       "D  0.978947  2.140353 -0.368481  0.920584\n",
       "E  0.907643  0.060393  1.014474  0.048282"
      ]
     },
     "execution_count": 53,
     "metadata": {},
     "output_type": "execute_result"
    }
   ],
   "source": [
    "df"
   ]
  },
  {
   "cell_type": "code",
   "execution_count": 54,
   "id": "8ea6973c-2f52-4681-932b-3c5430459111",
   "metadata": {},
   "outputs": [
    {
     "data": {
      "text/plain": [
       "pandas.core.frame.DataFrame"
      ]
     },
     "execution_count": 54,
     "metadata": {},
     "output_type": "execute_result"
    }
   ],
   "source": [
    "type(df)"
   ]
  },
  {
   "cell_type": "code",
   "execution_count": 55,
   "id": "83c6f773-f9c4-40dc-837f-5d42f3473791",
   "metadata": {},
   "outputs": [
    {
     "data": {
      "text/plain": [
       "pandas.core.series.Series"
      ]
     },
     "execution_count": 55,
     "metadata": {},
     "output_type": "execute_result"
    }
   ],
   "source": [
    "type(df['X'])"
   ]
  },
  {
   "cell_type": "code",
   "execution_count": 57,
   "id": "0ff04a5f-507d-46a2-9e56-ee7b0ef80e82",
   "metadata": {},
   "outputs": [
    {
     "data": {
      "text/plain": [
       "pandas.core.series.Series"
      ]
     },
     "execution_count": 57,
     "metadata": {},
     "output_type": "execute_result"
    }
   ],
   "source": [
    "type(df.loc['C'])"
   ]
  },
  {
   "cell_type": "code",
   "execution_count": 58,
   "id": "62f8f69b-0153-4246-add3-d60405fa18b8",
   "metadata": {},
   "outputs": [],
   "source": [
    "df['new'] = df['X'] + df['Z']"
   ]
  },
  {
   "cell_type": "code",
   "execution_count": 59,
   "id": "2fe7b54a-db10-456b-b621-1caa3d2dd4c8",
   "metadata": {},
   "outputs": [
    {
     "data": {
      "text/html": [
       "<div>\n",
       "<style scoped>\n",
       "    .dataframe tbody tr th:only-of-type {\n",
       "        vertical-align: middle;\n",
       "    }\n",
       "\n",
       "    .dataframe tbody tr th {\n",
       "        vertical-align: top;\n",
       "    }\n",
       "\n",
       "    .dataframe thead th {\n",
       "        text-align: right;\n",
       "    }\n",
       "</style>\n",
       "<table border=\"1\" class=\"dataframe\">\n",
       "  <thead>\n",
       "    <tr style=\"text-align: right;\">\n",
       "      <th></th>\n",
       "      <th>W</th>\n",
       "      <th>X</th>\n",
       "      <th>Y</th>\n",
       "      <th>Z</th>\n",
       "      <th>new</th>\n",
       "    </tr>\n",
       "  </thead>\n",
       "  <tbody>\n",
       "    <tr>\n",
       "      <th>A</th>\n",
       "      <td>-1.602959</td>\n",
       "      <td>-0.420116</td>\n",
       "      <td>-1.428094</td>\n",
       "      <td>-0.158894</td>\n",
       "      <td>-0.579011</td>\n",
       "    </tr>\n",
       "    <tr>\n",
       "      <th>B</th>\n",
       "      <td>0.536785</td>\n",
       "      <td>0.122485</td>\n",
       "      <td>1.280501</td>\n",
       "      <td>-1.535039</td>\n",
       "      <td>-1.412553</td>\n",
       "    </tr>\n",
       "    <tr>\n",
       "      <th>C</th>\n",
       "      <td>-0.493626</td>\n",
       "      <td>0.712144</td>\n",
       "      <td>-0.215077</td>\n",
       "      <td>-0.331514</td>\n",
       "      <td>0.380630</td>\n",
       "    </tr>\n",
       "    <tr>\n",
       "      <th>D</th>\n",
       "      <td>0.978947</td>\n",
       "      <td>2.140353</td>\n",
       "      <td>-0.368481</td>\n",
       "      <td>0.920584</td>\n",
       "      <td>3.060938</td>\n",
       "    </tr>\n",
       "    <tr>\n",
       "      <th>E</th>\n",
       "      <td>0.907643</td>\n",
       "      <td>0.060393</td>\n",
       "      <td>1.014474</td>\n",
       "      <td>0.048282</td>\n",
       "      <td>0.108675</td>\n",
       "    </tr>\n",
       "  </tbody>\n",
       "</table>\n",
       "</div>"
      ],
      "text/plain": [
       "          W         X         Y         Z       new\n",
       "A -1.602959 -0.420116 -1.428094 -0.158894 -0.579011\n",
       "B  0.536785  0.122485  1.280501 -1.535039 -1.412553\n",
       "C -0.493626  0.712144 -0.215077 -0.331514  0.380630\n",
       "D  0.978947  2.140353 -0.368481  0.920584  3.060938\n",
       "E  0.907643  0.060393  1.014474  0.048282  0.108675"
      ]
     },
     "execution_count": 59,
     "metadata": {},
     "output_type": "execute_result"
    }
   ],
   "source": [
    "df"
   ]
  },
  {
   "cell_type": "code",
   "execution_count": 63,
   "id": "fc94303b-9853-49f0-97cf-7275e645cde0",
   "metadata": {},
   "outputs": [
    {
     "data": {
      "text/html": [
       "<div>\n",
       "<style scoped>\n",
       "    .dataframe tbody tr th:only-of-type {\n",
       "        vertical-align: middle;\n",
       "    }\n",
       "\n",
       "    .dataframe tbody tr th {\n",
       "        vertical-align: top;\n",
       "    }\n",
       "\n",
       "    .dataframe thead th {\n",
       "        text-align: right;\n",
       "    }\n",
       "</style>\n",
       "<table border=\"1\" class=\"dataframe\">\n",
       "  <thead>\n",
       "    <tr style=\"text-align: right;\">\n",
       "      <th></th>\n",
       "      <th>W</th>\n",
       "      <th>X</th>\n",
       "      <th>Y</th>\n",
       "      <th>Z</th>\n",
       "    </tr>\n",
       "  </thead>\n",
       "  <tbody>\n",
       "    <tr>\n",
       "      <th>A</th>\n",
       "      <td>-1.602959</td>\n",
       "      <td>-0.420116</td>\n",
       "      <td>-1.428094</td>\n",
       "      <td>-0.158894</td>\n",
       "    </tr>\n",
       "    <tr>\n",
       "      <th>B</th>\n",
       "      <td>0.536785</td>\n",
       "      <td>0.122485</td>\n",
       "      <td>1.280501</td>\n",
       "      <td>-1.535039</td>\n",
       "    </tr>\n",
       "    <tr>\n",
       "      <th>C</th>\n",
       "      <td>-0.493626</td>\n",
       "      <td>0.712144</td>\n",
       "      <td>-0.215077</td>\n",
       "      <td>-0.331514</td>\n",
       "    </tr>\n",
       "    <tr>\n",
       "      <th>D</th>\n",
       "      <td>0.978947</td>\n",
       "      <td>2.140353</td>\n",
       "      <td>-0.368481</td>\n",
       "      <td>0.920584</td>\n",
       "    </tr>\n",
       "    <tr>\n",
       "      <th>E</th>\n",
       "      <td>0.907643</td>\n",
       "      <td>0.060393</td>\n",
       "      <td>1.014474</td>\n",
       "      <td>0.048282</td>\n",
       "    </tr>\n",
       "  </tbody>\n",
       "</table>\n",
       "</div>"
      ],
      "text/plain": [
       "          W         X         Y         Z\n",
       "A -1.602959 -0.420116 -1.428094 -0.158894\n",
       "B  0.536785  0.122485  1.280501 -1.535039\n",
       "C -0.493626  0.712144 -0.215077 -0.331514\n",
       "D  0.978947  2.140353 -0.368481  0.920584\n",
       "E  0.907643  0.060393  1.014474  0.048282"
      ]
     },
     "execution_count": 63,
     "metadata": {},
     "output_type": "execute_result"
    }
   ],
   "source": [
    "df.drop('new',axis=1)"
   ]
  },
  {
   "cell_type": "code",
   "execution_count": 64,
   "id": "e1a14605-a814-49a3-a5b4-a7005134c776",
   "metadata": {},
   "outputs": [],
   "source": [
    "df1 = {'A': ['A0','A1','A2'],'B': ['B0','B1','B2'],'C': ['C0','C1','C2']}"
   ]
  },
  {
   "cell_type": "code",
   "execution_count": 65,
   "id": "09eb81e1-de0f-4dbb-a5ec-3551d7a37833",
   "metadata": {},
   "outputs": [
    {
     "data": {
      "text/plain": [
       "{'A': ['A0', 'A1', 'A2'], 'B': ['B0', 'B1', 'B2'], 'C': ['C0', 'C1', 'C2']}"
      ]
     },
     "execution_count": 65,
     "metadata": {},
     "output_type": "execute_result"
    }
   ],
   "source": [
    "df1"
   ]
  },
  {
   "cell_type": "code",
   "execution_count": 71,
   "id": "ce029864-fb8a-49e8-82dd-f8cda9dc3f48",
   "metadata": {},
   "outputs": [],
   "source": [
    "mydf1 = pd.DataFrame(df1,index=[0,1,2])"
   ]
  },
  {
   "cell_type": "code",
   "execution_count": 72,
   "id": "d1c2d299-e569-40b3-9d63-f859ecedf74c",
   "metadata": {},
   "outputs": [
    {
     "data": {
      "text/html": [
       "<div>\n",
       "<style scoped>\n",
       "    .dataframe tbody tr th:only-of-type {\n",
       "        vertical-align: middle;\n",
       "    }\n",
       "\n",
       "    .dataframe tbody tr th {\n",
       "        vertical-align: top;\n",
       "    }\n",
       "\n",
       "    .dataframe thead th {\n",
       "        text-align: right;\n",
       "    }\n",
       "</style>\n",
       "<table border=\"1\" class=\"dataframe\">\n",
       "  <thead>\n",
       "    <tr style=\"text-align: right;\">\n",
       "      <th></th>\n",
       "      <th>A</th>\n",
       "      <th>B</th>\n",
       "      <th>C</th>\n",
       "    </tr>\n",
       "  </thead>\n",
       "  <tbody>\n",
       "    <tr>\n",
       "      <th>0</th>\n",
       "      <td>A0</td>\n",
       "      <td>B0</td>\n",
       "      <td>C0</td>\n",
       "    </tr>\n",
       "    <tr>\n",
       "      <th>1</th>\n",
       "      <td>A1</td>\n",
       "      <td>B1</td>\n",
       "      <td>C1</td>\n",
       "    </tr>\n",
       "    <tr>\n",
       "      <th>2</th>\n",
       "      <td>A2</td>\n",
       "      <td>B2</td>\n",
       "      <td>C2</td>\n",
       "    </tr>\n",
       "  </tbody>\n",
       "</table>\n",
       "</div>"
      ],
      "text/plain": [
       "    A   B   C\n",
       "0  A0  B0  C0\n",
       "1  A1  B1  C1\n",
       "2  A2  B2  C2"
      ]
     },
     "execution_count": 72,
     "metadata": {},
     "output_type": "execute_result"
    }
   ],
   "source": [
    "mydf1"
   ]
  },
  {
   "cell_type": "code",
   "execution_count": 68,
   "id": "529d7cc1-8564-477b-b26e-96b34f5f2e56",
   "metadata": {},
   "outputs": [],
   "source": [
    "df2 = {'A': ['A4','A4','A6'],'B': ['B4','B5','B6'],'C': ['C4','C5','C6']}"
   ]
  },
  {
   "cell_type": "code",
   "execution_count": 73,
   "id": "fdd1f4f1-af38-4005-b278-2e31248699a7",
   "metadata": {},
   "outputs": [],
   "source": [
    "mydf2 = pd.DataFrame(df2,index=[3,4,5])"
   ]
  },
  {
   "cell_type": "code",
   "execution_count": 74,
   "id": "620aa5e7-49bf-441f-8dde-2e9f02615816",
   "metadata": {},
   "outputs": [
    {
     "data": {
      "text/html": [
       "<div>\n",
       "<style scoped>\n",
       "    .dataframe tbody tr th:only-of-type {\n",
       "        vertical-align: middle;\n",
       "    }\n",
       "\n",
       "    .dataframe tbody tr th {\n",
       "        vertical-align: top;\n",
       "    }\n",
       "\n",
       "    .dataframe thead th {\n",
       "        text-align: right;\n",
       "    }\n",
       "</style>\n",
       "<table border=\"1\" class=\"dataframe\">\n",
       "  <thead>\n",
       "    <tr style=\"text-align: right;\">\n",
       "      <th></th>\n",
       "      <th>A</th>\n",
       "      <th>B</th>\n",
       "      <th>C</th>\n",
       "    </tr>\n",
       "  </thead>\n",
       "  <tbody>\n",
       "    <tr>\n",
       "      <th>3</th>\n",
       "      <td>A4</td>\n",
       "      <td>B4</td>\n",
       "      <td>C4</td>\n",
       "    </tr>\n",
       "    <tr>\n",
       "      <th>4</th>\n",
       "      <td>A4</td>\n",
       "      <td>B5</td>\n",
       "      <td>C5</td>\n",
       "    </tr>\n",
       "    <tr>\n",
       "      <th>5</th>\n",
       "      <td>A6</td>\n",
       "      <td>B6</td>\n",
       "      <td>C6</td>\n",
       "    </tr>\n",
       "  </tbody>\n",
       "</table>\n",
       "</div>"
      ],
      "text/plain": [
       "    A   B   C\n",
       "3  A4  B4  C4\n",
       "4  A4  B5  C5\n",
       "5  A6  B6  C6"
      ]
     },
     "execution_count": 74,
     "metadata": {},
     "output_type": "execute_result"
    }
   ],
   "source": [
    "mydf2"
   ]
  },
  {
   "cell_type": "code",
   "execution_count": 78,
   "id": "2b56b34a-c129-4d3a-b7d8-d8a0d4b118f5",
   "metadata": {},
   "outputs": [
    {
     "data": {
      "text/html": [
       "<div>\n",
       "<style scoped>\n",
       "    .dataframe tbody tr th:only-of-type {\n",
       "        vertical-align: middle;\n",
       "    }\n",
       "\n",
       "    .dataframe tbody tr th {\n",
       "        vertical-align: top;\n",
       "    }\n",
       "\n",
       "    .dataframe thead th {\n",
       "        text-align: right;\n",
       "    }\n",
       "</style>\n",
       "<table border=\"1\" class=\"dataframe\">\n",
       "  <thead>\n",
       "    <tr style=\"text-align: right;\">\n",
       "      <th></th>\n",
       "      <th>A</th>\n",
       "      <th>B</th>\n",
       "      <th>C</th>\n",
       "    </tr>\n",
       "  </thead>\n",
       "  <tbody>\n",
       "    <tr>\n",
       "      <th>0</th>\n",
       "      <td>A0</td>\n",
       "      <td>B0</td>\n",
       "      <td>C0</td>\n",
       "    </tr>\n",
       "    <tr>\n",
       "      <th>1</th>\n",
       "      <td>A1</td>\n",
       "      <td>B1</td>\n",
       "      <td>C1</td>\n",
       "    </tr>\n",
       "    <tr>\n",
       "      <th>2</th>\n",
       "      <td>A2</td>\n",
       "      <td>B2</td>\n",
       "      <td>C2</td>\n",
       "    </tr>\n",
       "    <tr>\n",
       "      <th>3</th>\n",
       "      <td>A4</td>\n",
       "      <td>B4</td>\n",
       "      <td>C4</td>\n",
       "    </tr>\n",
       "    <tr>\n",
       "      <th>4</th>\n",
       "      <td>A4</td>\n",
       "      <td>B5</td>\n",
       "      <td>C5</td>\n",
       "    </tr>\n",
       "    <tr>\n",
       "      <th>5</th>\n",
       "      <td>A6</td>\n",
       "      <td>B6</td>\n",
       "      <td>C6</td>\n",
       "    </tr>\n",
       "  </tbody>\n",
       "</table>\n",
       "</div>"
      ],
      "text/plain": [
       "    A   B   C\n",
       "0  A0  B0  C0\n",
       "1  A1  B1  C1\n",
       "2  A2  B2  C2\n",
       "3  A4  B4  C4\n",
       "4  A4  B5  C5\n",
       "5  A6  B6  C6"
      ]
     },
     "execution_count": 78,
     "metadata": {},
     "output_type": "execute_result"
    }
   ],
   "source": [
    "pd.concat([mydf1,mydf2])"
   ]
  },
  {
   "cell_type": "code",
   "execution_count": 79,
   "id": "74afc947-6705-44b5-83a1-0486b9188a51",
   "metadata": {},
   "outputs": [],
   "source": [
    "import matplotlib.pyplot as plt"
   ]
  },
  {
   "cell_type": "code",
   "execution_count": 80,
   "id": "482b0d7f-c935-4209-be82-710542dc6c11",
   "metadata": {},
   "outputs": [],
   "source": [
    "%matplotlib inline"
   ]
  },
  {
   "cell_type": "code",
   "execution_count": 81,
   "id": "51574e57-f41b-4b8d-a9e3-68bb7c7687d6",
   "metadata": {},
   "outputs": [],
   "source": [
    "x = np.linspace(0,5,11)"
   ]
  },
  {
   "cell_type": "code",
   "execution_count": 82,
   "id": "00236a6d-088c-45b2-9e60-b27fd45e3fd2",
   "metadata": {},
   "outputs": [
    {
     "data": {
      "text/plain": [
       "array([0. , 0.5, 1. , 1.5, 2. , 2.5, 3. , 3.5, 4. , 4.5, 5. ])"
      ]
     },
     "execution_count": 82,
     "metadata": {},
     "output_type": "execute_result"
    }
   ],
   "source": [
    "x"
   ]
  },
  {
   "cell_type": "code",
   "execution_count": 83,
   "id": "3c7c50b5-fbe9-4be1-a1d0-9a86c614aba0",
   "metadata": {},
   "outputs": [],
   "source": [
    "y = x**2"
   ]
  },
  {
   "cell_type": "code",
   "execution_count": 84,
   "id": "934d54c0-fa16-4268-bcdc-70c5aaf09532",
   "metadata": {},
   "outputs": [
    {
     "data": {
      "text/plain": [
       "array([ 0.  ,  0.25,  1.  ,  2.25,  4.  ,  6.25,  9.  , 12.25, 16.  ,\n",
       "       20.25, 25.  ])"
      ]
     },
     "execution_count": 84,
     "metadata": {},
     "output_type": "execute_result"
    }
   ],
   "source": [
    "y"
   ]
  },
  {
   "cell_type": "code",
   "execution_count": 86,
   "id": "a1e81fcd-a8fb-48a6-9020-9ef2c384a942",
   "metadata": {},
   "outputs": [
    {
     "data": {
      "text/plain": [
       "Text(0.5, 1.0, 'Demo Plot')"
      ]
     },
     "execution_count": 86,
     "metadata": {},
     "output_type": "execute_result"
    },
    {
     "data": {
      "image/png": "[encoded data removed]",
      "text/plain": [
       "<Figure size 640x480 with 1 Axes>"
      ]
     },
     "metadata": {},
     "output_type": "display_data"
    }
   ],
   "source": [
    "plt.plot(x,y)\n",
    "plt.xlabel('X')\n",
    "plt.ylabel('Y')\n",
    "plt.title('Demo Plot')"
   ]
  },
  {
   "cell_type": "code",
   "execution_count": 89,
   "id": "7c15f882-a6b4-47da-829b-d574b6018ab1",
   "metadata": {},
   "outputs": [
    {
     "data": {
      "text/plain": [
       "[<matplotlib.lines.Line2D at 0x7f3947fd9e50>]"
      ]
     },
     "execution_count": 89,
     "metadata": {},
     "output_type": "execute_result"
    },
    {
     "data": {
      "image/png": "[encoded data removed]",
      "text/plain": [
       "<Figure size 640x480 with 2 Axes>"
      ]
     },
     "metadata": {},
     "output_type": "display_data"
    }
   ],
   "source": [
    "plt.subplot(1,2,1)\n",
    "plt.plot(x,y,'g',)\n",
    "\n",
    "plt.subplot(1,2,2)\n",
    "plt.plot(y,x,'r')"
   ]
  },
  {
   "cell_type": "code",
   "execution_count": null,
   "id": "cd5a6b18-8f12-411b-b9ac-09e4c666d3c0",
   "metadata": {},
   "outputs": [],
   "source": []
  }
 ],
 "metadata": {
  "kernelspec": {
   "display_name": "Python 3 (ipykernel)",
   "language": "python",
   "name": "python3"
  },
  "language_info": {
   "codemirror_mode": {
    "name": "ipython",
    "version": 3
   },
   "file_extension": ".py",
   "mimetype": "text/x-python",
   "name": "python",
   "nbconvert_exporter": "python",
   "pygments_lexer": "ipython3",
   "version": "3.13.3"
  }
 },
 "nbformat": 4,
 "nbformat_minor": 5
}
